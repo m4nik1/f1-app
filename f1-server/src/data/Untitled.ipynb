{
 "cells": [
  {
   "cell_type": "code",
   "execution_count": 6,
   "id": "9cbe9301",
   "metadata": {},
   "outputs": [],
   "source": [
    "import requests\n",
    "from fastapi import FastAPI\n",
    "import pandas as pd"
   ]
  },
  {
   "cell_type": "code",
   "execution_count": 13,
   "id": "7c814a70",
   "metadata": {},
   "outputs": [],
   "source": [
    "\n",
    "app = FastAPI()\n",
    "silverStoneData = {\"Position\": [], \"Drivers\": [], \"Team\": [], \"Time\": []}"
   ]
  },
  {
   "cell_type": "code",
   "execution_count": 14,
   "id": "3f73d98a",
   "metadata": {},
   "outputs": [],
   "source": [
    "url = \"https://ergast.com/api/f1/current/last/results.json\"\n",
    "r = requests.get(url)\n",
    "json = r.json()"
   ]
  },
  {
   "cell_type": "code",
   "execution_count": 15,
   "id": "f7b99e65",
   "metadata": {},
   "outputs": [],
   "source": [
    "for item in json[\"MRData\"][\"RaceTable\"][\"Races\"][0][\"Results\"]:\n",
    "    silverStoneData[\"Position\"].append(item[\"position\"])\n",
    "    silverStoneData[\"drivers\"].append(item[\"Driver\"][\"driverId\"])\n",
    "    silverStoneData[\"Team\"].append(item[\"Constructor\"][\"constructorId\"])"
   ]
  },
  {
   "cell_type": "code",
   "execution_count": 16,
   "id": "cd3a573b",
   "metadata": {},
   "outputs": [],
   "source": [
    "silverStone = pd.DataFrame(silverStoneData)"
   ]
  },
  {
   "cell_type": "code",
   "execution_count": 17,
   "id": "2100f631",
   "metadata": {},
   "outputs": [
    {
     "name": "stdout",
     "output_type": "stream",
     "text": [
      "   Position          drivers          Team\n",
      "0         1         hamilton      mercedes\n",
      "1         2          leclerc       ferrari\n",
      "2         3           bottas      mercedes\n",
      "3         4           norris       mclaren\n",
      "4         5        ricciardo       mclaren\n",
      "5         6            sainz       ferrari\n",
      "6         7           alonso        alpine\n",
      "7         8           stroll  aston_martin\n",
      "8         9             ocon        alpine\n",
      "9        10          tsunoda    alphatauri\n",
      "10       11            gasly    alphatauri\n",
      "11       12          russell      williams\n",
      "12       13       giovinazzi          alfa\n",
      "13       14           latifi      williams\n",
      "14       15        raikkonen          alfa\n",
      "15       16            perez      red_bull\n",
      "16       17          mazepin          haas\n",
      "17       18  mick_schumacher          haas\n",
      "18       19           vettel  aston_martin\n",
      "19       20   max_verstappen      red_bull\n"
     ]
    }
   ],
   "source": [
    "print(silverStone)"
   ]
  },
  {
   "cell_type": "code",
   "execution_count": null,
   "id": "9b6d9ede",
   "metadata": {},
   "outputs": [],
   "source": []
  }
 ],
 "metadata": {
  "kernelspec": {
   "display_name": "Python 3",
   "language": "python",
   "name": "python3"
  },
  "language_info": {
   "codemirror_mode": {
    "name": "ipython",
    "version": 3
   },
   "file_extension": ".py",
   "mimetype": "text/x-python",
   "name": "python",
   "nbconvert_exporter": "python",
   "pygments_lexer": "ipython3",
   "version": "3.9.6"
  }
 },
 "nbformat": 4,
 "nbformat_minor": 5
}
